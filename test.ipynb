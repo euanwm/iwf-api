{
 "cells": [
  {
   "cell_type": "code",
   "execution_count": 1,
   "id": "615736aa",
   "metadata": {},
   "outputs": [],
   "source": [
    "from iwf.core import *\n",
    "\n",
    "# from iwf.core import _loadNewBodyweightEventsPage\n",
    "# from iwf.helper import _loadOldBodyweightEventsPage\n",
    "# from iwf.helper import *\n",
    "\n",
    "import requests\n",
    "import time\n",
    "\n",
    "from bs4 import BeautifulSoup\n",
    "from urllib.parse import urlencode\n",
    "from threading import Thread\n",
    "from queue import Queue"
   ]
  },
  {
   "cell_type": "code",
   "execution_count": 33,
   "id": "70b9e1b0",
   "metadata": {},
   "outputs": [
    {
     "name": "stdout",
     "output_type": "stream",
     "text": [
      "https://iwf.sport\n"
     ]
    }
   ],
   "source": [
    "print(BASE_URL)"
   ]
  },
  {
   "cell_type": "code",
   "execution_count": 34,
   "id": "990da7b1",
   "metadata": {},
   "outputs": [],
   "source": [
    "url = BASE_URL + EVENTS_URL + \"/?\" + YEAR_URL "
   ]
  },
  {
   "cell_type": "code",
   "execution_count": 35,
   "id": "6db50f7d",
   "metadata": {},
   "outputs": [
    {
     "name": "stdout",
     "output_type": "stream",
     "text": [
      "https://iwf.sport/results/results-by-events/??event_year=\n"
     ]
    }
   ],
   "source": [
    "print(url)"
   ]
  },
  {
   "cell_type": "markdown",
   "id": "7a7c2576",
   "metadata": {},
   "source": [
    "### GET ALL YEARS\n",
    "https://iwf.sport/results/results-by-events/"
   ]
  },
  {
   "cell_type": "code",
   "execution_count": 36,
   "id": "1abc4a3b",
   "metadata": {},
   "outputs": [],
   "source": [
    "events_url = BASE_URL + EVENTS_URL"
   ]
  },
  {
   "cell_type": "code",
   "execution_count": 37,
   "id": "3c98244e",
   "metadata": {},
   "outputs": [
    {
     "name": "stdout",
     "output_type": "stream",
     "text": [
      "https://iwf.sport/results/results-by-events\n"
     ]
    }
   ],
   "source": [
    "print(events_url)"
   ]
  },
  {
   "cell_type": "code",
   "execution_count": 38,
   "id": "9a4ba4cb",
   "metadata": {},
   "outputs": [],
   "source": [
    "r = requests.get(events_url, headers=HEADERS)"
   ]
  },
  {
   "cell_type": "code",
   "execution_count": 39,
   "id": "2b6c351e",
   "metadata": {},
   "outputs": [],
   "source": [
    "# for new bodyweight\n",
    "html = r.text"
   ]
  },
  {
   "cell_type": "code",
   "execution_count": null,
   "id": "3633af41",
   "metadata": {},
   "outputs": [],
   "source": []
  },
  {
   "cell_type": "code",
   "execution_count": 40,
   "id": "09514aaa",
   "metadata": {},
   "outputs": [],
   "source": [
    "# def _scrapOptionYears():\n",
    "#\n",
    "#\n",
    "# return option_\n",
    "\n",
    "# div_select = _loadNewBodyweightEventsPage().findAll(\"div\", {\"class\": \"form__group\"})"
   ]
  },
  {
   "cell_type": "code",
   "execution_count": null,
   "id": "b204e9f0",
   "metadata": {},
   "outputs": [],
   "source": []
  },
  {
   "cell_type": "code",
   "execution_count": 42,
   "id": "0b39aa39",
   "metadata": {},
   "outputs": [],
   "source": [
    "# select_option = _loadNewBodyweightEventsPage().findAll(\"select\", {\"name\": \"event_year\"})[0]"
   ]
  },
  {
   "cell_type": "code",
   "execution_count": null,
   "id": "6022c39a",
   "metadata": {},
   "outputs": [],
   "source": [
    "print(select_option)"
   ]
  },
  {
   "cell_type": "code",
   "execution_count": 43,
   "id": "c37afe56",
   "metadata": {},
   "outputs": [
    {
     "ename": "NameError",
     "evalue": "name 'select_option' is not defined",
     "output_type": "error",
     "traceback": [
      "\u001b[0;31m---------------------------------------------------------------------------\u001b[0m",
      "\u001b[0;31mNameError\u001b[0m                                 Traceback (most recent call last)",
      "Input \u001b[0;32mIn [43]\u001b[0m, in \u001b[0;36m<cell line: 1>\u001b[0;34m()\u001b[0m\n\u001b[0;32m----> 1\u001b[0m options \u001b[38;5;241m=\u001b[39m \u001b[43mselect_option\u001b[49m\u001b[38;5;241m.\u001b[39mfindAll(\u001b[38;5;124m\"\u001b[39m\u001b[38;5;124moption\u001b[39m\u001b[38;5;124m\"\u001b[39m)\n\u001b[1;32m      2\u001b[0m \u001b[38;5;28mprint\u001b[39m(options)\n",
      "\u001b[0;31mNameError\u001b[0m: name 'select_option' is not defined"
     ]
    }
   ],
   "source": [
    "options = select_option.findAll(\"option\")\n",
    "print(options)"
   ]
  },
  {
   "cell_type": "code",
   "execution_count": null,
   "id": "4c761a3f",
   "metadata": {},
   "outputs": [],
   "source": [
    "years = []\n",
    "for item in options:\n",
    "    #print(item.get_text())\n",
    "    years.append(item.get_text())\n",
    "print(years)"
   ]
  },
  {
   "cell_type": "code",
   "execution_count": null,
   "id": "525948bd",
   "metadata": {},
   "outputs": [],
   "source": []
  },
  {
   "cell_type": "code",
   "execution_count": null,
   "id": "d62d61d9",
   "metadata": {},
   "outputs": [],
   "source": []
  },
  {
   "cell_type": "code",
   "execution_count": null,
   "id": "b5da20ad",
   "metadata": {},
   "outputs": [],
   "source": []
  },
  {
   "cell_type": "code",
   "execution_count": null,
   "id": "7a957953",
   "metadata": {},
   "outputs": [],
   "source": []
  },
  {
   "cell_type": "code",
   "execution_count": null,
   "id": "57446f31",
   "metadata": {},
   "outputs": [],
   "source": []
  },
  {
   "cell_type": "code",
   "execution_count": 1,
   "id": "8bdad2ca",
   "metadata": {},
   "outputs": [],
   "source": [
    "from iwf.event import Event"
   ]
  },
  {
   "cell_type": "code",
   "execution_count": 2,
   "id": "ecda9c7e",
   "metadata": {},
   "outputs": [
    {
     "name": "stdout",
     "output_type": "stream",
     "text": [
      "https://iwf.sport/results/results-by-events/results-by-events-old-bw\n"
     ]
    }
   ],
   "source": [
    "print(Event()._craft_bodyweight_url(new_or_old=\"old\"))"
   ]
  },
  {
   "cell_type": "code",
   "execution_count": 3,
   "id": "263bd9a6",
   "metadata": {},
   "outputs": [
    {
     "name": "stdout",
     "output_type": "stream",
     "text": [
      "https://iwf.sport/results/results-by-events\n"
     ]
    }
   ],
   "source": [
    "print(Event()._craft_bodyweight_url(new_or_old=\"new\"))"
   ]
  },
  {
   "cell_type": "code",
   "execution_count": 4,
   "id": "898ea679",
   "metadata": {},
   "outputs": [
    {
     "name": "stdout",
     "output_type": "stream",
     "text": [
      "https://iwf.sport/results/results-by-events\n"
     ]
    }
   ],
   "source": [
    "soup_data = Event()._craft_bodyweight_url(new_or_old=\"new\")\n",
    "print(soup_data)"
   ]
  },
  {
   "cell_type": "code",
   "execution_count": 5,
   "id": "efb17875",
   "metadata": {},
   "outputs": [
    {
     "name": "stdout",
     "output_type": "stream",
     "text": [
      "0\n",
      "None\n"
     ]
    }
   ],
   "source": [
    "print(Event()._craft_url(new_or_old=\"old\"))"
   ]
  },
  {
   "cell_type": "code",
   "execution_count": 6,
   "id": "00a68b8b",
   "metadata": {},
   "outputs": [
    {
     "name": "stdout",
     "output_type": "stream",
     "text": [
      "0\n",
      "None\n"
     ]
    }
   ],
   "source": [
    "print(Event()._craft_url(new_or_old=\"new\"))"
   ]
  },
  {
   "cell_type": "code",
   "execution_count": 7,
   "id": "5f7f840a",
   "metadata": {},
   "outputs": [
    {
     "name": "stdout",
     "output_type": "stream",
     "text": [
      "0\n",
      "None\n"
     ]
    }
   ],
   "source": [
    "print(Event()._craft_url(new_or_old=\"old\", year='2018'))"
   ]
  },
  {
   "cell_type": "code",
   "execution_count": 8,
   "id": "0575bb49",
   "metadata": {},
   "outputs": [
    {
     "name": "stdout",
     "output_type": "stream",
     "text": [
      "has space\n",
      "Olympic Games\n",
      "Olympic+Games\n",
      "1\n",
      "https://iwf.sport/results/results-by-events/results-by-events-old-bw&event_type=Olympic+Games\n"
     ]
    }
   ],
   "source": [
    "print(Event()._craft_url(new_or_old=\"old\", event_type='Olympic Games'))"
   ]
  },
  {
   "cell_type": "code",
   "execution_count": null,
   "id": "5c3d7878",
   "metadata": {},
   "outputs": [],
   "source": []
  },
  {
   "cell_type": "code",
   "execution_count": null,
   "id": "ba709fec",
   "metadata": {},
   "outputs": [],
   "source": [
    "from iwf.event import Event"
   ]
  },
  {
   "cell_type": "code",
   "execution_count": 2,
   "id": "e6f39bbd",
   "metadata": {},
   "outputs": [
    {
     "name": "stdout",
     "output_type": "stream",
     "text": [
      "['event_type=Olympic+Games']\n",
      "https://iwf.sport/results/results-by-events/results-by-events-old-bw/?event_type=Olympic+Games\n"
     ]
    }
   ],
   "source": [
    "print(Event()._craft_url(new_or_old=\"old\", event_type='Olympic Games'))"
   ]
  },
  {
   "cell_type": "code",
   "execution_count": 3,
   "id": "56da7aac",
   "metadata": {},
   "outputs": [
    {
     "name": "stdout",
     "output_type": "stream",
     "text": [
      "['event_type=Olympic+Games', 'event_age=Senior', 'event_nation=JPN']\n",
      "https://iwf.sport/results/results-by-events/?event_type=Olympic+Games&event_age=Senior&event_nation=JPN\n"
     ]
    }
   ],
   "source": [
    "print(Event()._craft_url(new_or_old=\"new\", event_type='Olympic Games', age_group='Senior', nation='JPN'))"
   ]
  },
  {
   "cell_type": "code",
   "execution_count": 4,
   "id": "b62ae845",
   "metadata": {},
   "outputs": [],
   "source": [
    "# https://iwf.sport/results/results-by-events/?event_type=Olympic+Games&event_age=Junior"
   ]
  },
  {
   "cell_type": "markdown",
   "id": "7ceab75d",
   "metadata": {},
   "source": [
    "# EVENT TEST"
   ]
  },
  {
   "cell_type": "code",
   "execution_count": 1,
   "id": "378f80d9",
   "metadata": {},
   "outputs": [],
   "source": [
    "from iwf.event import Event"
   ]
  },
  {
   "cell_type": "code",
   "execution_count": 2,
   "id": "191d66f4",
   "metadata": {},
   "outputs": [
    {
     "name": "stdout",
     "output_type": "stream",
     "text": [
      "https://iwf.sport/results/results-by-events/results-by-events-old-bw/?event_type=Olympic+Games&event_nation=CHN\n"
     ]
    }
   ],
   "source": [
    "# url1 = Event()._craft_url(new_or_old=\"new\", nation='UZB')\n",
    "url1 = Event()._craft_url(new_or_old=\"old\", event_type='Olympic Games', nation='CHN')\n",
    "print(url1)"
   ]
  },
  {
   "cell_type": "code",
   "execution_count": 3,
   "id": "701b56a4",
   "metadata": {},
   "outputs": [],
   "source": [
    "# print(Event()._load_event_page(url1))\n",
    "page1 = Event()._load_event_page(url1)\n",
    "# print(page1)"
   ]
  },
  {
   "cell_type": "code",
   "execution_count": 16,
   "id": "f3b1e58d",
   "metadata": {},
   "outputs": [],
   "source": [
    "# print(Event()._scrape_event_info(page1))"
   ]
  },
  {
   "cell_type": "code",
   "execution_count": 17,
   "id": "3c3841af",
   "metadata": {},
   "outputs": [],
   "source": [
    "# print(Event()._load_event_page(new_or_old='old'))"
   ]
  },
  {
   "cell_type": "code",
   "execution_count": 18,
   "id": "0c2e4bae",
   "metadata": {},
   "outputs": [],
   "source": [
    "# print(Event().get_events(year='2022'))"
   ]
  },
  {
   "cell_type": "code",
   "execution_count": 19,
   "id": "028145e0",
   "metadata": {},
   "outputs": [],
   "source": [
    "# print(Event().get_events(search_url=url1))"
   ]
  },
  {
   "cell_type": "code",
   "execution_count": 20,
   "id": "762a2be9",
   "metadata": {},
   "outputs": [],
   "source": [
    "# cards = Event()._scrape_a_event(page1)"
   ]
  },
  {
   "cell_type": "code",
   "execution_count": 21,
   "id": "c8dcfd18",
   "metadata": {},
   "outputs": [],
   "source": [
    "# for card in cards:\n",
    "#     print(card)"
   ]
  },
  {
   "cell_type": "code",
   "execution_count": 22,
   "id": "59c4fd46",
   "metadata": {},
   "outputs": [],
   "source": [
    "# print(cards)"
   ]
  },
  {
   "cell_type": "code",
   "execution_count": null,
   "id": "6855ec84",
   "metadata": {},
   "outputs": [],
   "source": []
  },
  {
   "cell_type": "code",
   "execution_count": 4,
   "id": "7375ab8d",
   "metadata": {},
   "outputs": [
    {
     "ename": "TypeError",
     "evalue": "slice indices must be integers or None or have an __index__ method",
     "output_type": "error",
     "traceback": [
      "\u001b[0;31m---------------------------------------------------------------------------\u001b[0m",
      "\u001b[0;31mTypeError\u001b[0m                                 Traceback (most recent call last)",
      "\u001b[1;32m/home/cjw/code/twler/iwf-api/test.ipynb Cell 25'\u001b[0m in \u001b[0;36m<cell line: 1>\u001b[0;34m()\u001b[0m\n\u001b[0;32m----> <a href='vscode-notebook-cell://wsl%2Bubuntu/home/cjw/code/twler/iwf-api/test.ipynb#ch0000024vscode-remote?line=0'>1</a>\u001b[0m \u001b[39mprint\u001b[39m(Event()\u001b[39m.\u001b[39;49mget_events(search_url\u001b[39m=\u001b[39;49murl1))\n",
      "File \u001b[0;32m~/code/twler/iwf-api/iwf/event.py:157\u001b[0m, in \u001b[0;36mEvent.get_events\u001b[0;34m(self, year, search_url, new_or_old, nation, event_type, age_group)\u001b[0m\n\u001b[1;32m    133\u001b[0m \u001b[39mdef\u001b[39;00m \u001b[39mget_events\u001b[39m(\n\u001b[1;32m    134\u001b[0m     \u001b[39mself\u001b[39m,\n\u001b[1;32m    135\u001b[0m     year\u001b[39m=\u001b[39m\u001b[39mNone\u001b[39;00m,\n\u001b[0;32m   (...)\u001b[0m\n\u001b[1;32m    155\u001b[0m     \u001b[39m#     )\u001b[39;00m\n\u001b[1;32m    156\u001b[0m     \u001b[39m# ):\u001b[39;00m\n\u001b[0;32m--> 157\u001b[0m     result_data \u001b[39m=\u001b[39m \u001b[39mself\u001b[39;49m\u001b[39m.\u001b[39;49m_scrape_event_info(\n\u001b[1;32m    158\u001b[0m         \u001b[39mself\u001b[39;49m\u001b[39m.\u001b[39;49m_load_event_page(\n\u001b[1;32m    159\u001b[0m             search_url, new_or_old, year, nation, event_type, age_group\n\u001b[1;32m    160\u001b[0m         )\n\u001b[1;32m    161\u001b[0m     )\n\u001b[1;32m    162\u001b[0m     \u001b[39m# print(result_data)\u001b[39;00m\n\u001b[1;32m    163\u001b[0m     \u001b[39mif\u001b[39;00m result_data:\n",
      "File \u001b[0;32m~/code/twler/iwf-api/iwf/event.py:117\u001b[0m, in \u001b[0;36mEvent._scrape_event_info\u001b[0;34m(self, soup_data)\u001b[0m\n\u001b[1;32m    113\u001b[0m \u001b[39m# cards = self._scrape_a_event(soup_data)\u001b[39;00m\n\u001b[1;32m    114\u001b[0m \n\u001b[1;32m    115\u001b[0m \u001b[39m# print(cards[0])\u001b[39;00m\n\u001b[1;32m    116\u001b[0m \u001b[39mfor\u001b[39;00m i, card \u001b[39min\u001b[39;00m \u001b[39menumerate\u001b[39m(cards):\n\u001b[0;32m--> 117\u001b[0m     data[\u001b[39m\"\u001b[39m\u001b[39mname\u001b[39m\u001b[39m\"\u001b[39m] \u001b[39m=\u001b[39m card\u001b[39m.\u001b[39;49mfind(\u001b[39m\"\u001b[39;49m\u001b[39mspan\u001b[39;49m\u001b[39m\"\u001b[39;49m, {\u001b[39m\"\u001b[39;49m\u001b[39mclass\u001b[39;49m\u001b[39m\"\u001b[39;49m: \u001b[39m\"\u001b[39;49m\u001b[39mtext\u001b[39;49m\u001b[39m\"\u001b[39;49m})\u001b[39m.\u001b[39mstring\n\u001b[1;32m    118\u001b[0m     \u001b[39m# data[\"name\"] = card.xpath(\"//a[1]/div[1]/div/div[1]/p/span\")\u001b[39;00m\n\u001b[1;32m    119\u001b[0m     \u001b[39m# data[\"result_url\"] = card[\"href\"]\u001b[39;00m\n\u001b[1;32m    120\u001b[0m     \u001b[39m# data[\"location\"] = card.find(\"strong\").string\u001b[39;00m\n\u001b[1;32m    121\u001b[0m     \u001b[39m# data[\"date\"] = card.find(\"p\", {\"class\": \"normal__text\"}).string.strip()\u001b[39;00m\n\u001b[1;32m    122\u001b[0m     result\u001b[39m.\u001b[39mappend(data)\n",
      "\u001b[0;31mTypeError\u001b[0m: slice indices must be integers or None or have an __index__ method"
     ]
    }
   ],
   "source": [
    "print(Event().get_events(search_url=url1))"
   ]
  },
  {
   "cell_type": "code",
   "execution_count": 14,
   "id": "1a70ffd4",
   "metadata": {},
   "outputs": [],
   "source": [
    "# print(Event().get_events(new_or_old='new'))"
   ]
  },
  {
   "cell_type": "code",
   "execution_count": 1,
   "id": "4c35a01e",
   "metadata": {},
   "outputs": [],
   "source": [
    "# print(Event().get_events(year='2022'))"
   ]
  },
  {
   "cell_type": "code",
   "execution_count": null,
   "id": "4b94125f",
   "metadata": {},
   "outputs": [],
   "source": []
  },
  {
   "cell_type": "code",
   "execution_count": null,
   "id": "d3ae1605",
   "metadata": {},
   "outputs": [],
   "source": []
  },
  {
   "cell_type": "code",
   "execution_count": 1,
   "id": "9f2f38c3",
   "metadata": {},
   "outputs": [
    {
     "name": "stdout",
     "output_type": "stream",
     "text": [
      "https://iwf.sport/results/results-by-events/results-by-events-old-bw/?event_type=Olympic+Games&event_nation=CHN\n"
     ]
    }
   ],
   "source": [
    "from iwf.event import Event\n",
    "\n",
    "url1 = Event()._craft_url(new_or_old=\"old\", event_type='Olympic Games', nation='CHN')\n",
    "page1 = Event()._load_event_page(url1)"
   ]
  },
  {
   "cell_type": "code",
   "execution_count": 2,
   "id": "00ad5e7c",
   "metadata": {},
   "outputs": [
    {
     "name": "stdout",
     "output_type": "stream",
     "text": [
      "https://iwf.sport/results/results-by-events/results-by-events-old-bw/?event_type=Olympic+Games&event_nation=CHN\n",
      "[{'name': '2nd YOUTH OLYMPIC GAMES', 'result_url': '?event_id=295', 'location': 'CHN', 'date': 'Aug 16, 2014'}, {'name': 'XXIX OLYMPIC GAMES', 'result_url': '?event_id=21', 'location': 'CHN', 'date': 'Aug 09, 2008'}]\n"
     ]
    }
   ],
   "source": [
    "\n",
    "print(Event().get_events(new_or_old=\"old\", event_type='Olympic Games', nation='CHN'))"
   ]
  },
  {
   "cell_type": "code",
   "execution_count": 3,
   "id": "c73c40a1",
   "metadata": {},
   "outputs": [
    {
     "name": "stdout",
     "output_type": "stream",
     "text": [
      "https://iwf.sport/results/results-by-events/results-by-events-old-bw?event_year=2018\n",
      "[{'name': '2018 EUROPEAN JUNIOR CHAMPIONSHIPS', 'result_url': '?event_id=436', 'location': 'POL', 'date': 'Oct 20, 2018'}, {'name': 'YOUTH OLYMPIC GAMES', 'result_url': '?event_id=440', 'location': 'ARG', 'date': 'Oct 06, 2018'}, {'name': '2018 FISU WORLD UNIVERSITY CHAMPIONSHIPS', 'result_url': '?event_id=438', 'location': 'POL', 'date': 'Sep 20, 2018'}, {'name': 'PAN-AMERICAN JUNIOR CHAMPIONSHIPS', 'result_url': '?event_id=437', 'location': 'COL', 'date': 'Sep 05, 2018'}, {'name': '18th ASIAN GAMES', 'result_url': '?event_id=435', 'location': 'INA', 'date': 'Aug 20, 2018'}, {'name': 'AFRICAN CHAMPIONSHIPS', 'result_url': '?event_id=439', 'location': 'MRI', 'date': 'Aug 10, 2018'}, {'name': '2018 EUROPEAN YOUTH CHAMPIONSHIPS', 'result_url': '?event_id=433', 'location': 'ITA', 'date': 'Jul 22, 2018'}, {'name': '3rd AFRICAN YOUTH GAMES', 'result_url': '?event_id=434', 'location': 'ALG', 'date': 'Jul 19, 2018'}, {'name': '2018 IWF JUNIOR WORLD CHAMPIONSHIPS', 'result_url': '?event_id=432', 'location': 'UZB', 'date': 'Jul 07, 2018'}, {'name': '2018 OCEANIAN SENIOR CHAMPIONSHIPS', 'result_url': '?event_id=429', 'location': 'NCL', 'date': 'Jun 26, 2018'}, {'name': '2018 OCEANIAN JUNIOR CHAMPIONSHIPS', 'result_url': '?event_id=428', 'location': 'NCL', 'date': 'Jun 26, 2018'}, {'name': '2018 OCEANIAN YOUTH CHAMPIONSHIPS', 'result_url': '?event_id=427', 'location': 'NCL', 'date': 'Jun 26, 2018'}, {'name': 'XVIII MEDITERRANEAN GAMES', 'result_url': '?event_id=431', 'location': 'ESP', 'date': 'Jun 22, 2018'}, {'name': '2018 PAN-AMERICAN YOUTH CHAMPIONSHIPS', 'result_url': '?event_id=423', 'location': 'COL', 'date': 'Jun 03, 2018'}, {'name': 'SOUTH AMERICAN CHAMPIONSHIPS', 'result_url': '?event_id=426', 'location': 'BOL', 'date': 'May 28, 2018'}, {'name': 'XI SOUTH AMERICAN GAMES', 'result_url': '?event_id=430', 'location': 'BOL', 'date': 'May 28, 2018'}, {'name': 'XI INTERNATIONAL TOURNAMENT \"VLADAN MIHAJLOVIC\"', 'result_url': '?event_id=424', 'location': 'SRB', 'date': 'May 19, 2018'}, {'name': 'PAN-AMERICAN CHAMPIONSHIPS', 'result_url': '?event_id=425', 'location': 'DOM', 'date': 'May 12, 2018'}, {'name': '2018 ASIAN YOUTH CHAMPIONSHIPS', 'result_url': '?event_id=420', 'location': 'UZB', 'date': 'Apr 20, 2018'}, {'name': '2018 ASIAN JUNIOR CHAMPIONSHIPS', 'result_url': '?event_id=421', 'location': 'UZB', 'date': 'Apr 20, 2018'}, {'name': 'XXI COMMONWEALTH GAMES', 'result_url': '?event_id=419', 'location': 'AUS', 'date': 'Apr 04, 2018'}, {'name': 'EUROPEAN CHAMPIONSHIPS', 'result_url': '?event_id=418', 'location': 'ROU', 'date': 'Mar 26, 2018'}, {'name': '2018 AFRICAN JUNIOR CHAMPIONSHIPS', 'result_url': '?event_id=417', 'location': 'EGY', 'date': 'Mar 23, 2018'}, {'name': '2018 AFRICAN YOUTH CHAMPIONSHIPS', 'result_url': '?event_id=416', 'location': 'EGY', 'date': 'Mar 23, 2018'}, {'name': '3rd INTERNATIONAL FAJR CUP', 'result_url': '?event_id=415', 'location': 'IRI', 'date': 'Mar 06, 2018'}]\n"
     ]
    }
   ],
   "source": [
    "print(Event().get_events(new_or_old=\"old\", year='2018'))"
   ]
  },
  {
   "cell_type": "code",
   "execution_count": 4,
   "id": "0a8c0cc3",
   "metadata": {},
   "outputs": [
    {
     "name": "stdout",
     "output_type": "stream",
     "text": [
      "https://iwf.sport/results/results-by-events?event_year=2018\n",
      "[{'name': '5th International Qatar Cup', 'result_url': '?event_id=444', 'location': 'QAT', 'date': 'Dec 19, 2018'}, {'name': '5th International Solidarity Championships', 'result_url': '?event_id=445', 'location': 'EGY', 'date': 'Dec 08, 2018'}, {'name': 'II International Senior CSLP Cup', 'result_url': '?event_id=442', 'location': 'ECU', 'date': 'Dec 07, 2018'}, {'name': 'II International Junior CSLP Cup', 'result_url': '?event_id=443', 'location': 'ECU', 'date': 'Dec 07, 2018'}, {'name': '2018 IWF World Championships', 'result_url': '?event_id=441', 'location': 'TKM', 'date': 'Nov 01, 2018'}]\n"
     ]
    }
   ],
   "source": [
    "\n",
    "print(Event().get_events(new_or_old=\"new\", year='2018'))"
   ]
  },
  {
   "cell_type": "code",
   "execution_count": 5,
   "id": "f7a95e77",
   "metadata": {},
   "outputs": [
    {
     "name": "stdout",
     "output_type": "stream",
     "text": [
      "https://iwf.sport/results/results-by-events?event_year=2018\n",
      "[{'name': '5th International Qatar Cup', 'result_url': '?event_id=444', 'location': 'QAT', 'date': 'Dec 19, 2018'}, {'name': '5th International Solidarity Championships', 'result_url': '?event_id=445', 'location': 'EGY', 'date': 'Dec 08, 2018'}, {'name': 'II International Senior CSLP Cup', 'result_url': '?event_id=442', 'location': 'ECU', 'date': 'Dec 07, 2018'}, {'name': 'II International Junior CSLP Cup', 'result_url': '?event_id=443', 'location': 'ECU', 'date': 'Dec 07, 2018'}, {'name': '2018 IWF World Championships', 'result_url': '?event_id=441', 'location': 'TKM', 'date': 'Nov 01, 2018'}]\n"
     ]
    }
   ],
   "source": [
    "\n",
    "print(Event().get_events(new_or_old=\"new\", age_group='Youth'))"
   ]
  },
  {
   "cell_type": "code",
   "execution_count": null,
   "id": "3280508f",
   "metadata": {},
   "outputs": [],
   "source": []
  },
  {
   "cell_type": "code",
   "execution_count": null,
   "id": "50e24348",
   "metadata": {},
   "outputs": [],
   "source": []
  }
 ],
 "metadata": {
  "kernelspec": {
   "display_name": "Python 3.8.10 64-bit",
   "language": "python",
   "name": "python3"
  },
  "language_info": {
   "codemirror_mode": {
    "name": "ipython",
    "version": 3
   },
   "file_extension": ".py",
   "mimetype": "text/x-python",
   "name": "python",
   "nbconvert_exporter": "python",
   "pygments_lexer": "ipython3",
   "version": "3.8.10"
  },
  "vscode": {
   "interpreter": {
    "hash": "916dbcbb3f70747c44a77c7bcd40155683ae19c65e1c03b4aa3499c5328201f1"
   }
  }
 },
 "nbformat": 4,
 "nbformat_minor": 5
}
