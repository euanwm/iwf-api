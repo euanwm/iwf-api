{
 "cells": [
  {
   "cell_type": "code",
   "execution_count": 32,
   "id": "615736aa",
   "metadata": {},
   "outputs": [],
   "source": [
    "from iwf.core import *\n",
    "\n",
    "# from iwf.core import _loadNewBodyweightEventsPage\n",
    "# from iwf.helper import _loadOldBodyweightEventsPage\n",
    "# from iwf.helper import *\n",
    "\n",
    "import requests\n",
    "import time\n",
    "\n",
    "from bs4 import BeautifulSoup\n",
    "from urllib.parse import urlencode\n",
    "from threading import Thread\n",
    "from queue import Queue"
   ]
  },
  {
   "cell_type": "code",
   "execution_count": 33,
   "id": "70b9e1b0",
   "metadata": {},
   "outputs": [
    {
     "name": "stdout",
     "output_type": "stream",
     "text": [
      "https://iwf.sport\n"
     ]
    }
   ],
   "source": [
    "print(BASE_URL)"
   ]
  },
  {
   "cell_type": "code",
   "execution_count": 34,
   "id": "990da7b1",
   "metadata": {},
   "outputs": [],
   "source": [
    "url = BASE_URL + EVENTS_URL + \"/?\" + YEAR_URL "
   ]
  },
  {
   "cell_type": "code",
   "execution_count": 35,
   "id": "6db50f7d",
   "metadata": {},
   "outputs": [
    {
     "name": "stdout",
     "output_type": "stream",
     "text": [
      "https://iwf.sport/results/results-by-events/??event_year=\n"
     ]
    }
   ],
   "source": [
    "print(url)"
   ]
  },
  {
   "cell_type": "markdown",
   "id": "7a7c2576",
   "metadata": {},
   "source": [
    "### GET ALL YEARS\n",
    "https://iwf.sport/results/results-by-events/"
   ]
  },
  {
   "cell_type": "code",
   "execution_count": 36,
   "id": "1abc4a3b",
   "metadata": {},
   "outputs": [],
   "source": [
    "events_url = BASE_URL + EVENTS_URL"
   ]
  },
  {
   "cell_type": "code",
   "execution_count": 37,
   "id": "3c98244e",
   "metadata": {},
   "outputs": [
    {
     "name": "stdout",
     "output_type": "stream",
     "text": [
      "https://iwf.sport/results/results-by-events\n"
     ]
    }
   ],
   "source": [
    "print(events_url)"
   ]
  },
  {
   "cell_type": "code",
   "execution_count": 38,
   "id": "9a4ba4cb",
   "metadata": {},
   "outputs": [],
   "source": [
    "r = requests.get(events_url, headers=HEADERS)"
   ]
  },
  {
   "cell_type": "code",
   "execution_count": 39,
   "id": "2b6c351e",
   "metadata": {},
   "outputs": [],
   "source": [
    "# for new bodyweight\n",
    "html = r.text"
   ]
  },
  {
   "cell_type": "code",
   "execution_count": null,
   "id": "3633af41",
   "metadata": {},
   "outputs": [],
   "source": []
  },
  {
   "cell_type": "code",
   "execution_count": 40,
   "id": "09514aaa",
   "metadata": {},
   "outputs": [],
   "source": [
    "# def _scrapOptionYears():\n",
    "#\n",
    "#\n",
    "# return option_\n",
    "\n",
    "# div_select = _loadNewBodyweightEventsPage().findAll(\"div\", {\"class\": \"form__group\"})"
   ]
  },
  {
   "cell_type": "code",
   "execution_count": null,
   "id": "b204e9f0",
   "metadata": {},
   "outputs": [],
   "source": []
  },
  {
   "cell_type": "code",
   "execution_count": 42,
   "id": "0b39aa39",
   "metadata": {},
   "outputs": [],
   "source": [
    "# select_option = _loadNewBodyweightEventsPage().findAll(\"select\", {\"name\": \"event_year\"})[0]"
   ]
  },
  {
   "cell_type": "code",
   "execution_count": null,
   "id": "6022c39a",
   "metadata": {},
   "outputs": [],
   "source": [
    "print(select_option)"
   ]
  },
  {
   "cell_type": "code",
   "execution_count": 43,
   "id": "c37afe56",
   "metadata": {},
   "outputs": [
    {
     "ename": "NameError",
     "evalue": "name 'select_option' is not defined",
     "output_type": "error",
     "traceback": [
      "\u001b[0;31m---------------------------------------------------------------------------\u001b[0m",
      "\u001b[0;31mNameError\u001b[0m                                 Traceback (most recent call last)",
      "Input \u001b[0;32mIn [43]\u001b[0m, in \u001b[0;36m<cell line: 1>\u001b[0;34m()\u001b[0m\n\u001b[0;32m----> 1\u001b[0m options \u001b[38;5;241m=\u001b[39m \u001b[43mselect_option\u001b[49m\u001b[38;5;241m.\u001b[39mfindAll(\u001b[38;5;124m\"\u001b[39m\u001b[38;5;124moption\u001b[39m\u001b[38;5;124m\"\u001b[39m)\n\u001b[1;32m      2\u001b[0m \u001b[38;5;28mprint\u001b[39m(options)\n",
      "\u001b[0;31mNameError\u001b[0m: name 'select_option' is not defined"
     ]
    }
   ],
   "source": [
    "options = select_option.findAll(\"option\")\n",
    "print(options)"
   ]
  },
  {
   "cell_type": "code",
   "execution_count": null,
   "id": "4c761a3f",
   "metadata": {},
   "outputs": [],
   "source": [
    "years = []\n",
    "for item in options:\n",
    "    #print(item.get_text())\n",
    "    years.append(item.get_text())\n",
    "print(years)"
   ]
  },
  {
   "cell_type": "code",
   "execution_count": null,
   "id": "525948bd",
   "metadata": {},
   "outputs": [],
   "source": []
  },
  {
   "cell_type": "code",
   "execution_count": null,
   "id": "d62d61d9",
   "metadata": {},
   "outputs": [],
   "source": []
  },
  {
   "cell_type": "code",
   "execution_count": null,
   "id": "b5da20ad",
   "metadata": {},
   "outputs": [],
   "source": []
  },
  {
   "cell_type": "code",
   "execution_count": null,
   "id": "7a957953",
   "metadata": {},
   "outputs": [],
   "source": []
  },
  {
   "cell_type": "code",
   "execution_count": null,
   "id": "57446f31",
   "metadata": {},
   "outputs": [],
   "source": []
  },
  {
   "cell_type": "code",
   "execution_count": 1,
   "id": "8bdad2ca",
   "metadata": {},
   "outputs": [],
   "source": [
    "from iwf.event import Event"
   ]
  },
  {
   "cell_type": "code",
   "execution_count": 2,
   "id": "ecda9c7e",
   "metadata": {},
   "outputs": [
    {
     "name": "stdout",
     "output_type": "stream",
     "text": [
      "https://iwf.sport/results/results-by-events/results-by-events-old-bw\n"
     ]
    }
   ],
   "source": [
    "print(Event()._craft_bodyweight_url(new_or_old=\"old\"))"
   ]
  },
  {
   "cell_type": "code",
   "execution_count": 3,
   "id": "263bd9a6",
   "metadata": {},
   "outputs": [
    {
     "name": "stdout",
     "output_type": "stream",
     "text": [
      "https://iwf.sport/results/results-by-events\n"
     ]
    }
   ],
   "source": [
    "print(Event()._craft_bodyweight_url(new_or_old=\"new\"))"
   ]
  },
  {
   "cell_type": "code",
   "execution_count": 4,
   "id": "898ea679",
   "metadata": {},
   "outputs": [
    {
     "name": "stdout",
     "output_type": "stream",
     "text": [
      "https://iwf.sport/results/results-by-events\n"
     ]
    }
   ],
   "source": [
    "soup_data = Event()._craft_bodyweight_url(new_or_old=\"new\")\n",
    "print(soup_data)"
   ]
  },
  {
   "cell_type": "code",
   "execution_count": 5,
   "id": "efb17875",
   "metadata": {},
   "outputs": [
    {
     "name": "stdout",
     "output_type": "stream",
     "text": [
      "https://iwf.sport/results/results-by-events/results-by-events-old-bw\n"
     ]
    }
   ],
   "source": [
    "print(Event()._craft_url(new_or_old=\"old\"))"
   ]
  },
  {
   "cell_type": "code",
   "execution_count": 6,
   "id": "00a68b8b",
   "metadata": {},
   "outputs": [
    {
     "name": "stdout",
     "output_type": "stream",
     "text": [
      "https://iwf.sport/results/results-by-events\n"
     ]
    }
   ],
   "source": [
    "print(Event()._craft_url(new_or_old=\"new\"))"
   ]
  },
  {
   "cell_type": "code",
   "execution_count": 8,
   "id": "5f7f840a",
   "metadata": {},
   "outputs": [
    {
     "name": "stdout",
     "output_type": "stream",
     "text": [
      "https://iwf.sport/results/results-by-events/results-by-events-old-bw?event_year=2018\n"
     ]
    }
   ],
   "source": [
    "print(Event()._craft_url(new_or_old=\"old\", year='2018'))"
   ]
  },
  {
   "cell_type": "code",
   "execution_count": null,
   "id": "0575bb49",
   "metadata": {},
   "outputs": [],
   "source": []
  },
  {
   "cell_type": "code",
   "execution_count": null,
   "id": "378f80d9",
   "metadata": {},
   "outputs": [],
   "source": []
  },
  {
   "cell_type": "code",
   "execution_count": null,
   "id": "e6f39bbd",
   "metadata": {},
   "outputs": [],
   "source": []
  },
  {
   "cell_type": "code",
   "execution_count": null,
   "id": "56da7aac",
   "metadata": {},
   "outputs": [],
   "source": []
  },
  {
   "cell_type": "code",
   "execution_count": null,
   "id": "b62ae845",
   "metadata": {},
   "outputs": [],
   "source": []
  },
  {
   "cell_type": "code",
   "execution_count": null,
   "id": "191d66f4",
   "metadata": {},
   "outputs": [],
   "source": []
  },
  {
   "cell_type": "code",
   "execution_count": null,
   "id": "701b56a4",
   "metadata": {},
   "outputs": [],
   "source": []
  },
  {
   "cell_type": "code",
   "execution_count": null,
   "id": "f3b1e58d",
   "metadata": {},
   "outputs": [],
   "source": []
  },
  {
   "cell_type": "code",
   "execution_count": null,
   "id": "3c3841af",
   "metadata": {},
   "outputs": [],
   "source": []
  }
 ],
 "metadata": {
  "kernelspec": {
   "display_name": "venv",
   "language": "python",
   "name": "venv"
  },
  "language_info": {
   "codemirror_mode": {
    "name": "ipython",
    "version": 3
   },
   "file_extension": ".py",
   "mimetype": "text/x-python",
   "name": "python",
   "nbconvert_exporter": "python",
   "pygments_lexer": "ipython3",
   "version": "3.9.13"
  }
 },
 "nbformat": 4,
 "nbformat_minor": 5
}
