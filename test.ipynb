{
 "cells": [
  {
   "cell_type": "code",
   "execution_count": 2,
   "id": "615736aa",
   "metadata": {},
   "outputs": [],
   "source": [
    "from iwf.core import *\n",
    "\n",
    "# from iwf.core import _loadNewBodyweightEventsPage\n",
    "# from iwf.core import _load_new_bodyweight_events_page\n",
    "# from iwf.helper import _loadOldBodyweightEventsPage\n",
    "# from iwf.helper import *\n",
    "\n",
    "import requests\n",
    "import time\n",
    "\n",
    "from bs4 import BeautifulSoup\n",
    "from urllib.parse import urlencode\n",
    "from threading import Thread\n",
    "from queue import Queue"
   ]
  },
  {
   "cell_type": "code",
   "execution_count": 33,
   "id": "70b9e1b0",
   "metadata": {},
   "outputs": [
    {
     "name": "stdout",
     "output_type": "stream",
     "text": [
      "https://iwf.sport\n"
     ]
    }
   ],
   "source": [
    "print(BASE_URL)"
   ]
  },
  {
   "cell_type": "code",
   "execution_count": 34,
   "id": "990da7b1",
   "metadata": {},
   "outputs": [],
   "source": [
    "url = BASE_URL + EVENTS_URL + \"/?\" + YEAR_URL "
   ]
  },
  {
   "cell_type": "code",
   "execution_count": 35,
   "id": "6db50f7d",
   "metadata": {},
   "outputs": [
    {
     "name": "stdout",
     "output_type": "stream",
     "text": [
      "https://iwf.sport/results/results-by-events/??event_year=\n"
     ]
    }
   ],
   "source": [
    "print(url)"
   ]
  },
  {
   "cell_type": "markdown",
   "id": "7a7c2576",
   "metadata": {},
   "source": [
    "### GET ALL YEARS\n",
    "https://iwf.sport/results/results-by-events/"
   ]
  },
  {
   "cell_type": "code",
   "execution_count": 36,
   "id": "1abc4a3b",
   "metadata": {},
   "outputs": [],
   "source": [
    "events_url = BASE_URL + EVENTS_URL"
   ]
  },
  {
   "cell_type": "code",
   "execution_count": 37,
   "id": "3c98244e",
   "metadata": {},
   "outputs": [
    {
     "name": "stdout",
     "output_type": "stream",
     "text": [
      "https://iwf.sport/results/results-by-events\n"
     ]
    }
   ],
   "source": [
    "print(events_url)"
   ]
  },
  {
   "cell_type": "code",
   "execution_count": 38,
   "id": "9a4ba4cb",
   "metadata": {},
   "outputs": [],
   "source": [
    "r = requests.get(events_url, headers=HEADERS)"
   ]
  },
  {
   "cell_type": "code",
   "execution_count": 39,
   "id": "2b6c351e",
   "metadata": {},
   "outputs": [],
   "source": [
    "# for new bodyweight\n",
    "html = r.text"
   ]
  },
  {
   "cell_type": "code",
   "execution_count": null,
   "id": "3633af41",
   "metadata": {},
   "outputs": [],
   "source": []
  },
  {
   "cell_type": "code",
   "execution_count": 40,
   "id": "09514aaa",
   "metadata": {},
   "outputs": [],
   "source": [
    "# def _scrapOptionYears():\n",
    "#\n",
    "#\n",
    "# return option_\n",
    "\n",
    "# div_select = _loadNewBodyweightEventsPage().findAll(\"div\", {\"class\": \"form__group\"})"
   ]
  },
  {
   "cell_type": "code",
   "execution_count": null,
   "id": "b204e9f0",
   "metadata": {},
   "outputs": [],
   "source": []
  },
  {
   "cell_type": "code",
   "execution_count": 42,
   "id": "0b39aa39",
   "metadata": {},
   "outputs": [],
   "source": [
    "# select_option = _loadNewBodyweightEventsPage().findAll(\"select\", {\"name\": \"event_year\"})[0]"
   ]
  },
  {
   "cell_type": "code",
   "execution_count": null,
   "id": "6022c39a",
   "metadata": {},
   "outputs": [],
   "source": [
    "print(select_option)"
   ]
  },
  {
   "cell_type": "code",
   "execution_count": 43,
   "id": "c37afe56",
   "metadata": {},
   "outputs": [
    {
     "ename": "NameError",
     "evalue": "name 'select_option' is not defined",
     "output_type": "error",
     "traceback": [
      "\u001b[0;31m---------------------------------------------------------------------------\u001b[0m",
      "\u001b[0;31mNameError\u001b[0m                                 Traceback (most recent call last)",
      "Input \u001b[0;32mIn [43]\u001b[0m, in \u001b[0;36m<cell line: 1>\u001b[0;34m()\u001b[0m\n\u001b[0;32m----> 1\u001b[0m options \u001b[38;5;241m=\u001b[39m \u001b[43mselect_option\u001b[49m\u001b[38;5;241m.\u001b[39mfindAll(\u001b[38;5;124m\"\u001b[39m\u001b[38;5;124moption\u001b[39m\u001b[38;5;124m\"\u001b[39m)\n\u001b[1;32m      2\u001b[0m \u001b[38;5;28mprint\u001b[39m(options)\n",
      "\u001b[0;31mNameError\u001b[0m: name 'select_option' is not defined"
     ]
    }
   ],
   "source": [
    "options = select_option.findAll(\"option\")\n",
    "print(options)"
   ]
  },
  {
   "cell_type": "code",
   "execution_count": null,
   "id": "4c761a3f",
   "metadata": {},
   "outputs": [],
   "source": [
    "years = []\n",
    "for item in options:\n",
    "    #print(item.get_text())\n",
    "    years.append(item.get_text())\n",
    "print(years)"
   ]
  },
  {
   "cell_type": "code",
   "execution_count": null,
   "id": "525948bd",
   "metadata": {},
   "outputs": [],
   "source": []
  },
  {
   "cell_type": "code",
   "execution_count": null,
   "id": "d62d61d9",
   "metadata": {},
   "outputs": [],
   "source": []
  },
  {
   "cell_type": "code",
   "execution_count": null,
   "id": "b5da20ad",
   "metadata": {},
   "outputs": [],
   "source": []
  },
  {
   "cell_type": "code",
   "execution_count": null,
   "id": "7a957953",
   "metadata": {},
   "outputs": [],
   "source": []
  },
  {
   "cell_type": "code",
   "execution_count": null,
   "id": "57446f31",
   "metadata": {},
   "outputs": [],
   "source": []
  },
  {
   "cell_type": "code",
   "execution_count": 1,
   "id": "8bdad2ca",
   "metadata": {},
   "outputs": [],
   "source": [
    "from iwf.event import Event"
   ]
  },
  {
   "cell_type": "code",
   "execution_count": 2,
   "id": "ecda9c7e",
   "metadata": {},
   "outputs": [
    {
     "name": "stdout",
     "output_type": "stream",
     "text": [
      "https://iwf.sport/results/results-by-events/results-by-events-old-bw\n"
     ]
    }
   ],
   "source": [
    "print(Event()._craft_bodyweight_url(new_or_old=\"old\"))"
   ]
  },
  {
   "cell_type": "code",
   "execution_count": 3,
   "id": "263bd9a6",
   "metadata": {},
   "outputs": [
    {
     "name": "stdout",
     "output_type": "stream",
     "text": [
      "https://iwf.sport/results/results-by-events\n"
     ]
    }
   ],
   "source": [
    "print(Event()._craft_bodyweight_url(new_or_old=\"new\"))"
   ]
  },
  {
   "cell_type": "code",
   "execution_count": 4,
   "id": "898ea679",
   "metadata": {},
   "outputs": [
    {
     "name": "stdout",
     "output_type": "stream",
     "text": [
      "https://iwf.sport/results/results-by-events\n"
     ]
    }
   ],
   "source": [
    "soup_data = Event()._craft_bodyweight_url(new_or_old=\"new\")\n",
    "print(soup_data)"
   ]
  },
  {
   "cell_type": "code",
   "execution_count": 5,
   "id": "efb17875",
   "metadata": {},
   "outputs": [
    {
     "name": "stdout",
     "output_type": "stream",
     "text": [
      "0\n",
      "None\n"
     ]
    }
   ],
   "source": [
    "print(Event()._craft_url(new_or_old=\"old\"))"
   ]
  },
  {
   "cell_type": "code",
   "execution_count": 6,
   "id": "00a68b8b",
   "metadata": {},
   "outputs": [
    {
     "name": "stdout",
     "output_type": "stream",
     "text": [
      "0\n",
      "None\n"
     ]
    }
   ],
   "source": [
    "print(Event()._craft_url(new_or_old=\"new\"))"
   ]
  },
  {
   "cell_type": "code",
   "execution_count": 7,
   "id": "5f7f840a",
   "metadata": {},
   "outputs": [
    {
     "name": "stdout",
     "output_type": "stream",
     "text": [
      "0\n",
      "None\n"
     ]
    }
   ],
   "source": [
    "print(Event()._craft_url(new_or_old=\"old\", year='2018'))"
   ]
  },
  {
   "cell_type": "code",
   "execution_count": 8,
   "id": "0575bb49",
   "metadata": {},
   "outputs": [
    {
     "name": "stdout",
     "output_type": "stream",
     "text": [
      "has space\n",
      "Olympic Games\n",
      "Olympic+Games\n",
      "1\n",
      "https://iwf.sport/results/results-by-events/results-by-events-old-bw&event_type=Olympic+Games\n"
     ]
    }
   ],
   "source": [
    "print(Event()._craft_url(new_or_old=\"old\", event_type='Olympic Games'))"
   ]
  },
  {
   "cell_type": "code",
   "execution_count": null,
   "id": "5c3d7878",
   "metadata": {},
   "outputs": [],
   "source": []
  },
  {
   "cell_type": "code",
   "execution_count": null,
   "id": "ba709fec",
   "metadata": {},
   "outputs": [],
   "source": [
    "from iwf.event import Event"
   ]
  },
  {
   "cell_type": "code",
   "execution_count": 2,
   "id": "e6f39bbd",
   "metadata": {},
   "outputs": [
    {
     "name": "stdout",
     "output_type": "stream",
     "text": [
      "['event_type=Olympic+Games']\n",
      "https://iwf.sport/results/results-by-events/results-by-events-old-bw/?event_type=Olympic+Games\n"
     ]
    }
   ],
   "source": [
    "print(Event()._craft_url(new_or_old=\"old\", event_type='Olympic Games'))"
   ]
  },
  {
   "cell_type": "code",
   "execution_count": 3,
   "id": "56da7aac",
   "metadata": {},
   "outputs": [
    {
     "name": "stdout",
     "output_type": "stream",
     "text": [
      "['event_type=Olympic+Games', 'event_age=Senior', 'event_nation=JPN']\n",
      "https://iwf.sport/results/results-by-events/?event_type=Olympic+Games&event_age=Senior&event_nation=JPN\n"
     ]
    }
   ],
   "source": [
    "print(Event()._craft_url(new_or_old=\"new\", event_type='Olympic Games', age_group='Senior', nation='JPN'))"
   ]
  },
  {
   "cell_type": "code",
   "execution_count": 4,
   "id": "b62ae845",
   "metadata": {},
   "outputs": [],
   "source": [
    "# https://iwf.sport/results/results-by-events/?event_type=Olympic+Games&event_age=Junior"
   ]
  },
  {
   "cell_type": "markdown",
   "id": "7ceab75d",
   "metadata": {},
   "source": [
    "# EVENT TEST"
   ]
  },
  {
   "cell_type": "code",
   "execution_count": 1,
   "id": "378f80d9",
   "metadata": {},
   "outputs": [],
   "source": [
    "from iwf.event import Event"
   ]
  },
  {
   "cell_type": "code",
   "execution_count": 2,
   "id": "191d66f4",
   "metadata": {},
   "outputs": [
    {
     "name": "stdout",
     "output_type": "stream",
     "text": [
      "https://iwf.sport/results/results-by-events/results-by-events-old-bw/?event_type=Olympic+Games&event_nation=CHN\n",
      "https://iwf.sport/results/results-by-events/results-by-events-old-bw/?event_type=Olympic+Games&event_nation=CHN\n"
     ]
    }
   ],
   "source": [
    "# url1 = Event()._craft_url(new_or_old=\"new\", nation='UZB')\n",
    "url1 = Event()._craft_url(new_or_old=\"old\", event_type='Olympic Games', nation='CHN')\n",
    "print(url1)"
   ]
  },
  {
   "cell_type": "code",
   "execution_count": 3,
   "id": "701b56a4",
   "metadata": {},
   "outputs": [],
   "source": [
    "# print(Event()._load_event_page(url1))\n",
    "page1 = Event()._load_event_page(url1)\n",
    "# print(page1)"
   ]
  },
  {
   "cell_type": "code",
   "execution_count": 16,
   "id": "f3b1e58d",
   "metadata": {},
   "outputs": [],
   "source": [
    "# print(Event()._scrape_event_info(page1))"
   ]
  },
  {
   "cell_type": "code",
   "execution_count": 17,
   "id": "3c3841af",
   "metadata": {},
   "outputs": [],
   "source": [
    "# print(Event()._load_event_page(new_or_old='old'))"
   ]
  },
  {
   "cell_type": "code",
   "execution_count": 18,
   "id": "0c2e4bae",
   "metadata": {},
   "outputs": [],
   "source": [
    "# print(Event().get_events(year='2022'))"
   ]
  },
  {
   "cell_type": "code",
   "execution_count": 19,
   "id": "028145e0",
   "metadata": {},
   "outputs": [],
   "source": [
    "# print(Event().get_events(search_url=url1))"
   ]
  },
  {
   "cell_type": "code",
   "execution_count": 20,
   "id": "762a2be9",
   "metadata": {},
   "outputs": [],
   "source": [
    "# cards = Event()._scrape_a_event(page1)"
   ]
  },
  {
   "cell_type": "code",
   "execution_count": 21,
   "id": "c8dcfd18",
   "metadata": {},
   "outputs": [],
   "source": [
    "# for card in cards:\n",
    "#     print(card)"
   ]
  },
  {
   "cell_type": "code",
   "execution_count": 22,
   "id": "59c4fd46",
   "metadata": {},
   "outputs": [],
   "source": [
    "# print(cards)"
   ]
  },
  {
   "cell_type": "code",
   "execution_count": null,
   "id": "6855ec84",
   "metadata": {},
   "outputs": [],
   "source": []
  },
  {
   "cell_type": "code",
   "execution_count": 4,
   "id": "7375ab8d",
   "metadata": {},
   "outputs": [
    {
     "name": "stdout",
     "output_type": "stream",
     "text": [
      "[{'name': '2nd YOUTH OLYMPIC GAMES', 'result_url': '?event_id=295', 'location': 'CHN', 'date': 'Aug 16, 2014'}, {'name': 'XXIX OLYMPIC GAMES', 'result_url': '?event_id=21', 'location': 'CHN', 'date': 'Aug 09, 2008'}]\n"
     ]
    }
   ],
   "source": [
    "print(Event().get_events(search_url=url1))"
   ]
  },
  {
   "cell_type": "code",
   "execution_count": 14,
   "id": "1a70ffd4",
   "metadata": {},
   "outputs": [],
   "source": [
    "# print(Event().get_events(new_or_old='new'))"
   ]
  },
  {
   "cell_type": "code",
   "execution_count": 1,
   "id": "4c35a01e",
   "metadata": {},
   "outputs": [],
   "source": [
    "# print(Event().get_events(year='2022'))"
   ]
  },
  {
   "cell_type": "code",
   "execution_count": null,
   "id": "4b94125f",
   "metadata": {},
   "outputs": [],
   "source": []
  },
  {
   "cell_type": "code",
   "execution_count": null,
   "id": "d3ae1605",
   "metadata": {},
   "outputs": [],
   "source": []
  },
  {
   "cell_type": "code",
   "execution_count": 5,
   "id": "9f2f38c3",
   "metadata": {},
   "outputs": [
    {
     "name": "stdout",
     "output_type": "stream",
     "text": [
      "https://iwf.sport/results/results-by-events/results-by-events-old-bw/?event_type=Olympic+Games&event_nation=CHN\n"
     ]
    }
   ],
   "source": [
    "from iwf.event import Event\n",
    "\n",
    "url1 = Event()._craft_url(new_or_old=\"old\", event_type='Olympic Games', nation='CHN')\n",
    "page1 = Event()._load_event_page(url1)"
   ]
  },
  {
   "cell_type": "code",
   "execution_count": 6,
   "id": "00ad5e7c",
   "metadata": {},
   "outputs": [
    {
     "name": "stdout",
     "output_type": "stream",
     "text": [
      "https://iwf.sport/results/results-by-events/results-by-events-old-bw/?event_type=Olympic+Games&event_nation=CHN\n",
      "[{'name': '2nd YOUTH OLYMPIC GAMES', 'result_url': '?event_id=295', 'location': 'CHN', 'date': 'Aug 16, 2014'}, {'name': 'XXIX OLYMPIC GAMES', 'result_url': '?event_id=21', 'location': 'CHN', 'date': 'Aug 09, 2008'}]\n"
     ]
    }
   ],
   "source": [
    "\n",
    "print(Event().get_events(new_or_old=\"old\", event_type='Olympic Games', nation='CHN'))"
   ]
  },
  {
   "cell_type": "code",
   "execution_count": 7,
   "id": "c73c40a1",
   "metadata": {},
   "outputs": [
    {
     "name": "stdout",
     "output_type": "stream",
     "text": [
      "https://iwf.sport/results/results-by-events/results-by-events-old-bw?event_year=2018\n",
      "[{'name': '2018 EUROPEAN JUNIOR CHAMPIONSHIPS', 'result_url': '?event_id=436', 'location': 'POL', 'date': 'Oct 20, 2018'}, {'name': 'YOUTH OLYMPIC GAMES', 'result_url': '?event_id=440', 'location': 'ARG', 'date': 'Oct 06, 2018'}, {'name': '2018 FISU WORLD UNIVERSITY CHAMPIONSHIPS', 'result_url': '?event_id=438', 'location': 'POL', 'date': 'Sep 20, 2018'}, {'name': 'PAN-AMERICAN JUNIOR CHAMPIONSHIPS', 'result_url': '?event_id=437', 'location': 'COL', 'date': 'Sep 05, 2018'}, {'name': '18th ASIAN GAMES', 'result_url': '?event_id=435', 'location': 'INA', 'date': 'Aug 20, 2018'}, {'name': 'AFRICAN CHAMPIONSHIPS', 'result_url': '?event_id=439', 'location': 'MRI', 'date': 'Aug 10, 2018'}, {'name': '2018 EUROPEAN YOUTH CHAMPIONSHIPS', 'result_url': '?event_id=433', 'location': 'ITA', 'date': 'Jul 22, 2018'}, {'name': '3rd AFRICAN YOUTH GAMES', 'result_url': '?event_id=434', 'location': 'ALG', 'date': 'Jul 19, 2018'}, {'name': '2018 IWF JUNIOR WORLD CHAMPIONSHIPS', 'result_url': '?event_id=432', 'location': 'UZB', 'date': 'Jul 07, 2018'}, {'name': '2018 OCEANIAN SENIOR CHAMPIONSHIPS', 'result_url': '?event_id=429', 'location': 'NCL', 'date': 'Jun 26, 2018'}, {'name': '2018 OCEANIAN JUNIOR CHAMPIONSHIPS', 'result_url': '?event_id=428', 'location': 'NCL', 'date': 'Jun 26, 2018'}, {'name': '2018 OCEANIAN YOUTH CHAMPIONSHIPS', 'result_url': '?event_id=427', 'location': 'NCL', 'date': 'Jun 26, 2018'}, {'name': 'XVIII MEDITERRANEAN GAMES', 'result_url': '?event_id=431', 'location': 'ESP', 'date': 'Jun 22, 2018'}, {'name': '2018 PAN-AMERICAN YOUTH CHAMPIONSHIPS', 'result_url': '?event_id=423', 'location': 'COL', 'date': 'Jun 03, 2018'}, {'name': 'SOUTH AMERICAN CHAMPIONSHIPS', 'result_url': '?event_id=426', 'location': 'BOL', 'date': 'May 28, 2018'}, {'name': 'XI SOUTH AMERICAN GAMES', 'result_url': '?event_id=430', 'location': 'BOL', 'date': 'May 28, 2018'}, {'name': 'XI INTERNATIONAL TOURNAMENT \"VLADAN MIHAJLOVIC\"', 'result_url': '?event_id=424', 'location': 'SRB', 'date': 'May 19, 2018'}, {'name': 'PAN-AMERICAN CHAMPIONSHIPS', 'result_url': '?event_id=425', 'location': 'DOM', 'date': 'May 12, 2018'}, {'name': '2018 ASIAN YOUTH CHAMPIONSHIPS', 'result_url': '?event_id=420', 'location': 'UZB', 'date': 'Apr 20, 2018'}, {'name': '2018 ASIAN JUNIOR CHAMPIONSHIPS', 'result_url': '?event_id=421', 'location': 'UZB', 'date': 'Apr 20, 2018'}, {'name': 'XXI COMMONWEALTH GAMES', 'result_url': '?event_id=419', 'location': 'AUS', 'date': 'Apr 04, 2018'}, {'name': 'EUROPEAN CHAMPIONSHIPS', 'result_url': '?event_id=418', 'location': 'ROU', 'date': 'Mar 26, 2018'}, {'name': '2018 AFRICAN JUNIOR CHAMPIONSHIPS', 'result_url': '?event_id=417', 'location': 'EGY', 'date': 'Mar 23, 2018'}, {'name': '2018 AFRICAN YOUTH CHAMPIONSHIPS', 'result_url': '?event_id=416', 'location': 'EGY', 'date': 'Mar 23, 2018'}, {'name': '3rd INTERNATIONAL FAJR CUP', 'result_url': '?event_id=415', 'location': 'IRI', 'date': 'Mar 06, 2018'}]\n"
     ]
    }
   ],
   "source": [
    "print(Event().get_events(new_or_old=\"old\", year='2018'))"
   ]
  },
  {
   "cell_type": "code",
   "execution_count": 8,
   "id": "0a8c0cc3",
   "metadata": {},
   "outputs": [
    {
     "name": "stdout",
     "output_type": "stream",
     "text": [
      "https://iwf.sport/results/results-by-events?event_year=2018\n",
      "[{'name': '5th International Qatar Cup', 'result_url': '?event_id=444', 'location': 'QAT', 'date': 'Dec 19, 2018'}, {'name': '5th International Solidarity Championships', 'result_url': '?event_id=445', 'location': 'EGY', 'date': 'Dec 08, 2018'}, {'name': 'II International Senior CSLP Cup', 'result_url': '?event_id=442', 'location': 'ECU', 'date': 'Dec 07, 2018'}, {'name': 'II International Junior CSLP Cup', 'result_url': '?event_id=443', 'location': 'ECU', 'date': 'Dec 07, 2018'}, {'name': '2018 IWF World Championships', 'result_url': '?event_id=441', 'location': 'TKM', 'date': 'Nov 01, 2018'}]\n"
     ]
    }
   ],
   "source": [
    "\n",
    "print(Event().get_events(new_or_old=\"new\", year='2018'))"
   ]
  },
  {
   "cell_type": "code",
   "execution_count": 9,
   "id": "f7a95e77",
   "metadata": {},
   "outputs": [
    {
     "name": "stdout",
     "output_type": "stream",
     "text": [
      "https://iwf.sport/results/results-by-events/?event_age=Youth\n",
      "[{'name': '2022 IWF Youth World Championships', 'result_url': '?event_id=530', 'location': 'MEX', 'date': 'Jun 11, 2022'}, {'name': '2021 IWF Youth World Championships', 'result_url': '?event_id=519', 'location': 'KSA', 'date': 'Oct 05, 2021'}, {'name': 'European Youth Championships', 'result_url': '?event_id=525', 'location': 'POL', 'date': 'Aug 20, 2021'}, {'name': 'PAN-AMERICAN YOUTH CHAMPIONSHIPS', 'result_url': '?event_id=523', 'location': 'MEX', 'date': 'Aug 16, 2021'}, {'name': 'European Youth Championships', 'result_url': '?event_id=498', 'location': 'ISR', 'date': 'Dec 07, 2019'}, {'name': 'Asian Youth Championships', 'result_url': '?event_id=486', 'location': 'PRK', 'date': 'Oct 19, 2019'}, {'name': '2019 African Youth Championships', 'result_url': '?event_id=475', 'location': 'UGA', 'date': 'Sep 06, 2019'}, {'name': 'Pan-American Youth Championships', 'result_url': '?event_id=504', 'location': 'GUA', 'date': 'Aug 24, 2019'}, {'name': '2019 Oceania Youth Championships', 'result_url': '?event_id=470', 'location': 'SAM', 'date': 'Jul 09, 2019'}, {'name': '2019 Commonwealth Youth Championships', 'result_url': '?event_id=469', 'location': 'SAM', 'date': 'Jul 09, 2019'}, {'name': '2019 IWF Youth World Championships', 'result_url': '?event_id=448', 'location': 'USA', 'date': 'Mar 08, 2019'}]\n"
     ]
    }
   ],
   "source": [
    "\n",
    "print(Event().get_events(new_or_old=\"new\", age_group='Youth'))"
   ]
  },
  {
   "cell_type": "code",
   "execution_count": 2,
   "id": "3280508f",
   "metadata": {},
   "outputs": [
    {
     "name": "stdout",
     "output_type": "stream",
     "text": [
      "['2022', '2021', '2020', '2019', '2018', '2017', '2016', '2015', '2014', '2013', '2012', '2011', '2010', '2009', '2008', '2007', '2006', '2005', '2004', '2003', '2002', '2001', '2000', '1999', '1998']\n"
     ]
    }
   ],
   "source": [
    "\n",
    "\n",
    "print(get_years())"
   ]
  },
  {
   "cell_type": "code",
   "execution_count": null,
   "id": "50e24348",
   "metadata": {},
   "outputs": [],
   "source": []
  },
  {
   "cell_type": "code",
   "execution_count": 11,
   "id": "fa4ea543",
   "metadata": {},
   "outputs": [
    {
     "name": "stdout",
     "output_type": "stream",
     "text": [
      "<option value=\"Youth\">Youth</option>\n",
      "<option value=\"Junior\">Junior</option>\n",
      "<option value=\"Senior\">Senior</option>\n"
     ]
    }
   ],
   "source": [
    "# print(_load_new_bodyweight_events_page())\n",
    "page = _load_new_bodyweight_events_page().find('select', {'name': 'event_age'})\n",
    "for option in page.find_all('option'):\n",
    "  if option.has_attr('value') and option['value'] != 'all':\n",
    "    print(option)"
   ]
  },
  {
   "cell_type": "code",
   "execution_count": 12,
   "id": "485dadb0",
   "metadata": {},
   "outputs": [
    {
     "name": "stdout",
     "output_type": "stream",
     "text": [
      "<option value=\"Continental Championships\">Continental Championships</option>\n",
      "<option value=\"Continental Champioships\">Continental Champioships</option>\n",
      "<option value=\"Continental Games\">Continental Games</option>\n",
      "<option value=\"Grand Prix\">Grand Prix</option>\n",
      "<option value=\"Olympic Games\">Olympic Games</option>\n",
      "<option value=\"Other\">Other</option>\n",
      "<option value=\"Others\">Others</option>\n",
      "<option value=\"Regional Championships\">Regional Championships</option>\n",
      "<option value=\"Regional Games\">Regional Games</option>\n",
      "<option value=\"Universiade\">Universiade</option>\n",
      "<option value=\"World Championships\">World Championships</option>\n",
      "<option value=\"World University Championships\">World University Championships</option>\n"
     ]
    }
   ],
   "source": [
    "# print(_load_new_bodyweight_events_page())\n",
    "page = _load_new_bodyweight_events_page().find('select', {'name': 'event_type'})\n",
    "for option in page.find_all('option'):\n",
    "  if option.has_attr('value') and option['value'] != 'all':\n",
    "    print(option)"
   ]
  },
  {
   "cell_type": "code",
   "execution_count": 13,
   "id": "c8a27150",
   "metadata": {},
   "outputs": [
    {
     "name": "stdout",
     "output_type": "stream",
     "text": [
      "<option value=\"ALB\">ALB</option>\n",
      "<option value=\"ALG\">ALG</option>\n",
      "<option value=\"ARG\">ARG</option>\n",
      "<option value=\"AUS\">AUS</option>\n",
      "<option value=\"AUT\">AUT</option>\n",
      "<option value=\"AZE\">AZE</option>\n",
      "<option value=\"BLR\">BLR</option>\n",
      "<option value=\"BOL\">BOL</option>\n",
      "<option value=\"BOT\">BOT</option>\n",
      "<option value=\"BRA\">BRA</option>\n",
      "<option value=\"BUL\">BUL</option>\n",
      "<option value=\"CAN\">CAN</option>\n",
      "<option value=\"CGO\">CGO</option>\n",
      "<option value=\"CHI\">CHI</option>\n",
      "<option value=\"CHN\">CHN</option>\n",
      "<option value=\"CMR\">CMR</option>\n",
      "<option value=\"COK\">COK</option>\n",
      "<option value=\"COL\">COL</option>\n",
      "<option value=\"CRO\">CRO</option>\n",
      "<option value=\"CUB\">CUB</option>\n",
      "<option value=\"CYP\">CYP</option>\n",
      "<option value=\"CZE\">CZE</option>\n",
      "<option value=\"DOM\">DOM</option>\n",
      "<option value=\"ECU\">ECU</option>\n",
      "<option value=\"EGY\">EGY</option>\n",
      "<option value=\"ESA\">ESA</option>\n",
      "<option value=\"ESP\">ESP</option>\n",
      "<option value=\"EST\">EST</option>\n",
      "<option value=\"FIJ\">FIJ</option>\n",
      "<option value=\"FIN\">FIN</option>\n",
      "<option value=\"FRA\">FRA</option>\n",
      "<option value=\"FSM\">FSM</option>\n",
      "<option value=\"GBR\">GBR</option>\n",
      "<option value=\"GEO\">GEO</option>\n",
      "<option value=\"GER\">GER</option>\n",
      "<option value=\"GRE\">GRE</option>\n",
      "<option value=\"GUA\">GUA</option>\n",
      "<option value=\"HKG\">HKG</option>\n",
      "<option value=\"INA\">INA</option>\n",
      "<option value=\"IND\">IND</option>\n",
      "<option value=\"IRI\">IRI</option>\n",
      "<option value=\"ISR\">ISR</option>\n",
      "<option value=\"ITA\">ITA</option>\n",
      "<option value=\"JPN\">JPN</option>\n",
      "<option value=\"KAZ\">KAZ</option>\n",
      "<option value=\"KEN\">KEN</option>\n",
      "<option value=\"KGZ\">KGZ</option>\n",
      "<option value=\"KOR\">KOR</option>\n",
      "<option value=\"KOS\">KOS</option>\n",
      "<option value=\"KSA\">KSA</option>\n",
      "<option value=\"LAO\">LAO</option>\n",
      "<option value=\"LBA\">LBA</option>\n",
      "<option value=\"LTU\">LTU</option>\n",
      "<option value=\"MAD\">MAD</option>\n",
      "<option value=\"MAR\">MAR</option>\n",
      "<option value=\"MAS\">MAS</option>\n",
      "<option value=\"MEX\">MEX</option>\n",
      "<option value=\"MLT\">MLT</option>\n",
      "<option value=\"MRI\">MRI</option>\n",
      "<option value=\"MYA\">MYA</option>\n",
      "<option value=\"NCL\">NCL</option>\n",
      "<option value=\"NEP\">NEP</option>\n",
      "<option value=\"NOR\">NOR</option>\n",
      "<option value=\"NZL\">NZL</option>\n",
      "<option value=\"OWF\">OWF</option>\n",
      "<option value=\"PER\">PER</option>\n",
      "<option value=\"PHI\">PHI</option>\n",
      "<option value=\"PNG\">PNG</option>\n",
      "<option value=\"POL\">POL</option>\n",
      "<option value=\"PRK\">PRK</option>\n",
      "<option value=\"PUR\">PUR</option>\n",
      "<option value=\"QAT\">QAT</option>\n",
      "<option value=\"ROU\">ROU</option>\n",
      "<option value=\"RSA\">RSA</option>\n",
      "<option value=\"RUS\">RUS</option>\n",
      "<option value=\"SAM\">SAM</option>\n",
      "<option value=\"SIN\">SIN</option>\n",
      "<option value=\"SMR\">SMR</option>\n",
      "<option value=\"SRB\">SRB</option>\n",
      "<option value=\"SUI\">SUI</option>\n",
      "<option value=\"SVK\">SVK</option>\n",
      "<option value=\"SWE\">SWE</option>\n",
      "<option value=\"THA\">THA</option>\n",
      "<option value=\"TKM\">TKM</option>\n",
      "<option value=\"TPE\">TPE</option>\n",
      "<option value=\"TUN\">TUN</option>\n",
      "<option value=\"TUR\">TUR</option>\n",
      "<option value=\"UAE\">UAE</option>\n",
      "<option value=\"UGA\">UGA</option>\n",
      "<option value=\"USA\">USA</option>\n",
      "<option value=\"UZB\">UZB</option>\n",
      "<option value=\"VEN\">VEN</option>\n",
      "<option value=\"WAF\">WAF</option>\n"
     ]
    }
   ],
   "source": [
    "\n",
    "# print(_load_new_bodyweight_events_page())\n",
    "page = _load_new_bodyweight_events_page().find('select', {'name': 'event_nation'})\n",
    "for option in page.find_all('option'):\n",
    "  if option.has_attr('value') and option['value'] != 'all':\n",
    "    print(option)"
   ]
  },
  {
   "cell_type": "code",
   "execution_count": null,
   "id": "444288d4",
   "metadata": {},
   "outputs": [],
   "source": []
  },
  {
   "cell_type": "code",
   "execution_count": null,
   "id": "9b25ce13",
   "metadata": {},
   "outputs": [],
   "source": []
  },
  {
   "cell_type": "code",
   "execution_count": null,
   "id": "e9077f0e",
   "metadata": {},
   "outputs": [],
   "source": []
  },
  {
   "cell_type": "code",
   "execution_count": 1,
   "id": "6ab654f3",
   "metadata": {},
   "outputs": [],
   "source": [
    "from iwf.core import _scrape_event_type"
   ]
  },
  {
   "cell_type": "code",
   "execution_count": 2,
   "id": "be179dbf",
   "metadata": {},
   "outputs": [
    {
     "name": "stdout",
     "output_type": "stream",
     "text": [
      "['Continental Championships', 'Continental Champioships', 'Continental Games', 'Grand Prix', 'Olympic Games', 'Other', 'Others', 'Regional Championships', 'Regional Games', 'Universiade', 'World Championships', 'World University Championships']\n"
     ]
    }
   ],
   "source": [
    "print(_scrape_event_type())"
   ]
  },
  {
   "cell_type": "code",
   "execution_count": 1,
   "id": "5653e66d",
   "metadata": {},
   "outputs": [],
   "source": [
    "from iwf.core import _scrape_event_age_group"
   ]
  },
  {
   "cell_type": "code",
   "execution_count": 4,
   "id": "0c22cbd4",
   "metadata": {},
   "outputs": [
    {
     "name": "stdout",
     "output_type": "stream",
     "text": [
      "['Youth', 'Junior', 'Senior']\n"
     ]
    }
   ],
   "source": [
    "print(_scrape_event_age_group())"
   ]
  },
  {
   "cell_type": "code",
   "execution_count": null,
   "id": "f3aec481",
   "metadata": {},
   "outputs": [],
   "source": []
  },
  {
   "cell_type": "code",
   "execution_count": null,
   "id": "73006d3b",
   "metadata": {},
   "outputs": [],
   "source": []
  },
  {
   "cell_type": "code",
   "execution_count": 5,
   "id": "0dd03d42",
   "metadata": {},
   "outputs": [],
   "source": [
    "from iwf.core import _scrape_event_nation"
   ]
  },
  {
   "cell_type": "code",
   "execution_count": 6,
   "id": "de40c9a5",
   "metadata": {},
   "outputs": [
    {
     "name": "stdout",
     "output_type": "stream",
     "text": [
      "['ALB', 'ALG', 'ARG', 'AUS', 'AUT', 'AZE', 'BLR', 'BOL', 'BOT', 'BRA', 'BUL', 'CAN', 'CGO', 'CHI', 'CHN', 'CMR', 'COK', 'COL', 'CRO', 'CUB', 'CYP', 'CZE', 'DOM', 'ECU', 'EGY', 'ESA', 'ESP', 'EST', 'FIJ', 'FIN', 'FRA', 'FSM', 'GBR', 'GEO', 'GER', 'GRE', 'GUA', 'HKG', 'INA', 'IND', 'IRI', 'ISR', 'ITA', 'JPN', 'KAZ', 'KEN', 'KGZ', 'KOR', 'KOS', 'KSA', 'LAO', 'LBA', 'LTU', 'MAD', 'MAR', 'MAS', 'MEX', 'MLT', 'MRI', 'MYA', 'NCL', 'NEP', 'NOR', 'NZL', 'OWF', 'PER', 'PHI', 'PNG', 'POL', 'PRK', 'PUR', 'QAT', 'ROU', 'RSA', 'RUS', 'SAM', 'SIN', 'SMR', 'SRB', 'SUI', 'SVK', 'SWE', 'THA', 'TKM', 'TPE', 'TUN', 'TUR', 'UAE', 'UGA', 'USA', 'UZB', 'VEN', 'WAF']\n"
     ]
    }
   ],
   "source": [
    "print(_scrape_event_nation())"
   ]
  },
  {
   "cell_type": "code",
   "execution_count": 7,
   "id": "37f2e979",
   "metadata": {},
   "outputs": [
    {
     "name": "stdout",
     "output_type": "stream",
     "text": [
      "https://iwf.sport/results/results-by-events/results-by-events-old-bw/?event_type=Olympic+Games&event_nation=CHN\n"
     ]
    }
   ],
   "source": [
    "\n",
    "from iwf.event import Event\n",
    "\n",
    "url1 = Event()._craft_url(new_or_old=\"old\", event_type='Olympic Games', nation='CHN')\n",
    "page1 = Event()._load_event_page(url1)"
   ]
  },
  {
   "cell_type": "code",
   "execution_count": 9,
   "id": "cc9ec5ae",
   "metadata": {},
   "outputs": [
    {
     "name": "stdout",
     "output_type": "stream",
     "text": [
      "https://iwf.sport/results/results-by-events?event_year=2018\n",
      "[{'name': '5th International Qatar Cup', 'result_url': '?event_id=444', 'location': 'QAT', 'date': 'Dec 19, 2018'}, {'name': '5th International Solidarity Championships', 'result_url': '?event_id=445', 'location': 'EGY', 'date': 'Dec 08, 2018'}, {'name': 'II International Senior CSLP Cup', 'result_url': '?event_id=442', 'location': 'ECU', 'date': 'Dec 07, 2018'}, {'name': 'II International Junior CSLP Cup', 'result_url': '?event_id=443', 'location': 'ECU', 'date': 'Dec 07, 2018'}, {'name': '2018 IWF World Championships', 'result_url': '?event_id=441', 'location': 'TKM', 'date': 'Nov 01, 2018'}]\n"
     ]
    }
   ],
   "source": [
    "\n",
    "print(Event().get_events(year='2018', new_or_old=\"new\", age_group='Youth'))"
   ]
  },
  {
   "cell_type": "code",
   "execution_count": 10,
   "id": "34bf2eba",
   "metadata": {},
   "outputs": [
    {
     "name": "stdout",
     "output_type": "stream",
     "text": [
      "[{'name': 'Asian Youth Championships', 'result_url': '?event_id=486', 'location': 'PRK', 'date': 'Oct 19, 2019'}]\n"
     ]
    }
   ],
   "source": [
    "\n",
    "print(Event().get_events(search_url='https://iwf.sport/results/results-by-events/?event_type=all&event_age=Youth&event_nation=PRK'))"
   ]
  },
  {
   "cell_type": "code",
   "execution_count": null,
   "id": "3c27c9de",
   "metadata": {},
   "outputs": [],
   "source": []
  }
 ],
 "metadata": {
  "kernelspec": {
   "display_name": "Python 3.9.13 ('venv': venv)",
   "language": "python",
   "name": "python3"
  },
  "language_info": {
   "codemirror_mode": {
    "name": "ipython",
    "version": 3
   },
   "file_extension": ".py",
   "mimetype": "text/x-python",
   "name": "python",
   "nbconvert_exporter": "python",
   "pygments_lexer": "ipython3",
   "version": "3.9.13"
  },
  "vscode": {
   "interpreter": {
    "hash": "c788136eb7fabb7191ffb470d6122b08ad156536d2ea23beb8c331e9c2a56edb"
   }
  }
 },
 "nbformat": 4,
 "nbformat_minor": 5
}
