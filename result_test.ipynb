{
 "cells": [
  {
   "cell_type": "code",
   "execution_count": 2,
   "metadata": {},
   "outputs": [],
   "source": [
    "from iwf.core import *\n",
    "from iwf.result import *\n"
   ]
  },
  {
   "cell_type": "code",
   "execution_count": 2,
   "metadata": {},
   "outputs": [],
   "source": [
    "url = \"https://iwf.sport/results/results-by-events/?event_id=486\"\n"
   ]
  },
  {
   "cell_type": "code",
   "execution_count": 4,
   "metadata": {},
   "outputs": [],
   "source": [
    "page = Result()._load_result_page(search_url=url)\n"
   ]
  },
  {
   "cell_type": "code",
   "execution_count": 71,
   "metadata": {},
   "outputs": [
    {
     "name": "stdout",
     "output_type": "stream",
     "text": [
      "{'name': <div class=\"col-7 not__cell__767\">\n",
      "<p>\n",
      "PAK Yong\n",
      "</p>\n",
      "<div class=\"separator\"></div>\n",
      "</div>}\n",
      "4\n"
     ]
    }
   ],
   "source": [
    "data = {}\n",
    "totals = page.find(\"div\", {\"id\": \"men_total\"})\n",
    "snatch_and_jerks = page.find(\"div\", {\"id\": \"men_snatchjerk\"})\n",
    "count = 0\n",
    "for div_id in page.find_all('div', {'class':'result__container'}):\n",
    "    count += 1\n",
    "    # for result in div_id.find_all('div'):\n",
    "    #     if result.find('h2'):\n",
    "            # print(result.findall('h2'))\n",
    "    # if div_id.find_all('h2'):\n",
    "    #     print(div_id.find_all('h2'))\n",
    "    for result in div_id.find_all('div'):\n",
    "        # if result.find('h2'): \n",
    "        data[\"name\"] = div_id.find('div', {'class': 'col-7 not__cell__767'})\n",
    "            \n",
    "print(data)\n",
    "print(count)\n",
    "\n"
   ]
  },
  {
   "cell_type": "code",
   "execution_count": 1,
   "metadata": {},
   "outputs": [],
   "source": [
    "from iwf.result import Result\n",
    "url = \"https://iwf.sport/results/results-by-events/?event_id=486\"\n",
    "page = Result()._load_result_page(search_url=url)"
   ]
  },
  {
   "cell_type": "code",
   "execution_count": 2,
   "metadata": {},
   "outputs": [
    {
     "name": "stdout",
     "output_type": "stream",
     "text": [
      "{'name': 'PAK Myong Jin', 'birthdate': None, 'nation': None, 'athlete_url': None, 'category': None, 'bodyweight': None, 'group': None, 'snatch1': None, 'snatch2': None, 'snatch3': None, 'snatch': None, 'jerk1': None, 'jerk2': None, 'jerk3': None, 'jerk': None, 'total': None, 'rank_sn': None, 'rank_cj': None, 'rank': None}\n"
     ]
    }
   ],
   "source": [
    "print(Result()._scrape_result_info(page))"
   ]
  },
  {
   "cell_type": "code",
   "execution_count": null,
   "metadata": {},
   "outputs": [],
   "source": []
  },
  {
   "cell_type": "code",
   "execution_count": null,
   "metadata": {},
   "outputs": [],
   "source": []
  },
  {
   "cell_type": "code",
   "execution_count": null,
   "metadata": {},
   "outputs": [],
   "source": []
  },
  {
   "cell_type": "code",
   "execution_count": null,
   "metadata": {},
   "outputs": [],
   "source": []
  },
  {
   "cell_type": "code",
   "execution_count": null,
   "metadata": {},
   "outputs": [],
   "source": []
  },
  {
   "cell_type": "code",
   "execution_count": null,
   "metadata": {},
   "outputs": [],
   "source": []
  },
  {
   "cell_type": "code",
   "execution_count": null,
   "metadata": {},
   "outputs": [],
   "source": []
  },
  {
   "cell_type": "code",
   "execution_count": null,
   "metadata": {},
   "outputs": [],
   "source": []
  }
 ],
 "metadata": {
  "kernelspec": {
   "display_name": "Python 3.9.13 ('venv': venv)",
   "language": "python",
   "name": "python3"
  },
  "language_info": {
   "codemirror_mode": {
    "name": "ipython",
    "version": 3
   },
   "file_extension": ".py",
   "mimetype": "text/x-python",
   "name": "python",
   "nbconvert_exporter": "python",
   "pygments_lexer": "ipython3",
   "version": "3.9.13"
  },
  "orig_nbformat": 4,
  "vscode": {
   "interpreter": {
    "hash": "c788136eb7fabb7191ffb470d6122b08ad156536d2ea23beb8c331e9c2a56edb"
   }
  }
 },
 "nbformat": 4,
 "nbformat_minor": 2
}
