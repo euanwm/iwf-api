{
 "cells": [
  {
   "cell_type": "code",
   "execution_count": null,
   "metadata": {},
   "outputs": [],
   "source": [
    "from iwf.result import Result\n",
    "from pprint import pprint\n",
    "url = \"https://iwf.sport/results/results-by-events/?event_id=486\"\n",
    "page = Result()._load_result_page(search_url=url)\n",
    "pprint(Result()._scrape_result_info(page))"
   ]
  },
  {
   "cell_type": "code",
   "execution_count": null,
   "metadata": {},
   "outputs": [],
   "source": [
    "# url = \"https://iwf.sport/results/results-by-events/?event_id=486\"\n"
   ]
  },
  {
   "cell_type": "code",
   "execution_count": null,
   "metadata": {},
   "outputs": [],
   "source": [
    "# page = Result()._load_result_page(search_url=url)\n"
   ]
  },
  {
   "cell_type": "code",
   "execution_count": null,
   "metadata": {},
   "outputs": [],
   "source": [
    "# data = {}\n",
    "# totals = page.find(\"div\", {\"id\": \"men_total\"})\n",
    "# snatch_and_jerks = page.find(\"div\", {\"id\": \"men_snatchjerk\"})\n",
    "# count = 0\n",
    "# for div_id in page.find_all('div', {'class':'result__container'}):\n",
    "#     count += 1\n",
    "#     # for result in div_id.find_all('div'):\n",
    "#     #     if result.find('h2'):\n",
    "#             # print(result.findall('h2'))\n",
    "#     # if div_id.find_all('h2'):\n",
    "#     #     print(div_id.find_all('h2'))\n",
    "#     for result in div_id.find_all('div'):\n",
    "#         # if result.find('h2'): \n",
    "#         data[\"name\"] = div_id.find('div', {'class': 'col-7 not__cell__767'})\n",
    "            \n",
    "# print(data)\n",
    "# print(count)\n",
    "\n"
   ]
  },
  {
   "cell_type": "code",
   "execution_count": null,
   "metadata": {},
   "outputs": [],
   "source": []
  },
  {
   "cell_type": "code",
   "execution_count": null,
   "metadata": {},
   "outputs": [],
   "source": []
  },
  {
   "cell_type": "code",
   "execution_count": null,
   "metadata": {},
   "outputs": [],
   "source": []
  },
  {
   "cell_type": "code",
   "execution_count": null,
   "metadata": {},
   "outputs": [],
   "source": []
  },
  {
   "cell_type": "code",
   "execution_count": null,
   "metadata": {},
   "outputs": [],
   "source": []
  },
  {
   "cell_type": "code",
   "execution_count": null,
   "metadata": {},
   "outputs": [],
   "source": []
  },
  {
   "cell_type": "code",
   "execution_count": null,
   "metadata": {},
   "outputs": [],
   "source": []
  },
  {
   "cell_type": "code",
   "execution_count": null,
   "metadata": {},
   "outputs": [],
   "source": []
  },
  {
   "cell_type": "code",
   "execution_count": null,
   "metadata": {},
   "outputs": [],
   "source": [
    "# from iwf.result import Result\n",
    "# url = \"https://iwf.sport/results/results-by-events/?event_id=486\"\n",
    "# page = Result()._load_result_page(search_url=url)\n",
    "# print(Result()._scrape_result_info(page))"
   ]
  },
  {
   "cell_type": "code",
   "execution_count": null,
   "metadata": {},
   "outputs": [],
   "source": []
  },
  {
   "cell_type": "code",
   "execution_count": null,
   "metadata": {},
   "outputs": [],
   "source": []
  },
  {
   "cell_type": "code",
   "execution_count": null,
   "metadata": {},
   "outputs": [],
   "source": []
  },
  {
   "cell_type": "code",
   "execution_count": null,
   "metadata": {},
   "outputs": [],
   "source": []
  },
  {
   "cell_type": "code",
   "execution_count": null,
   "metadata": {},
   "outputs": [],
   "source": []
  },
  {
   "cell_type": "code",
   "execution_count": null,
   "metadata": {},
   "outputs": [],
   "source": []
  },
  {
   "cell_type": "code",
   "execution_count": null,
   "metadata": {},
   "outputs": [],
   "source": []
  },
  {
   "cell_type": "code",
   "execution_count": null,
   "metadata": {},
   "outputs": [],
   "source": []
  },
  {
   "cell_type": "code",
   "execution_count": null,
   "metadata": {},
   "outputs": [],
   "source": [
    "\n",
    "            # for c in card.find_all('div',{'class': 'card'}):\n",
    "            #     # print(c.select('div div a div div.col-7.not__cell__767 p'))\n",
    "            #     name = c.select('div div a div div.col-7.not__cell__767 p')\n",
    "            #     if name:\n",
    "            #         # print(name[0].text.strip())\n",
    "            \n",
    "            #         data[\"name\"] = name[0].text.strip()\n",
    "            #     results.append(data)\n",
    "            # # data[\"name\"] = card.find('p').text.strip()\n",
    "            \n",
    "        #     # print(card.select(\"div.col-7.not__cell__767\"))\n",
    "        #     # print(card.find('div', {'class': 'col-7 not__cell__767'}).find('p').text.strip())\n",
    "        #     # for row in card.find_all('div', {'class': 'row no-gutters'}):\n",
    "        #         # print(row)\n",
    "        #         # print(a_cl.find('div', {'class': 'col-7 not__cell__767'}).find('p').text.strip())\n",
    "        #         # data[\"name\"] = a_cl.contents[0].find('div', {'class': 'col-7 not__cell__767'}).find('p').text.strip()\n",
    "        #         # data[\"nation\"] = a_cl.find('div', {'class': 'col-3 not__cell__767'}).find('p').text.strip()\n",
    "        #         # data[\"rank_sn\"]  = a_cl.find('div', {'class': 'col-2 not__cell__767'}).find('p').text.strip()\n",
    "        #         # results.append(data)\n",
    "\n",
    "        #     # data[\"birthdate\"] = a_cl.find('div', {'class': 'col-5 not__cell__767'}).find('p').text.strip()\n",
    "        #     # data[\"bodyweight\"] = card.find('div', {'class': 'col-4 not__cell__767'}).find('p').text.strip()\n",
    "        #     # # data[\"group\"] = card.find('div',{'class':'col-3 not__cell__767'}).parent.find_next_sibling()\n",
    "        #     # # print(card.find('div',{'class':'col-3 not__cell__767'}).find_next('p'))\n",
    "        #     # data[\"snatch1\"] = card.find('div', {'class': 'col-3 not__cell__767'}).find('p').text.strip()\n",
    "\n",
    "        #     # print(card.find_all('div', {'class': 'card'}))\n",
    "\n",
    "        #     rows = card.find_all('div', {'class': 'card'})\n",
    "        #     for row in rows:\n",
    "        #         # print(row)\n",
    "        #         for r_n in row.contents:\n",
    "        #             # print(r)\n",
    "        #             for a in r_n.find('a', {'class': 'col-md-5 title'}):\n",
    "\n",
    "        #                 data[\"name\"] = a.find_all('col-7 not__cell__767')\n"
   ]
  }
 ],
 "metadata": {
  "kernelspec": {
   "display_name": "Python 3.9.13 ('venv': venv)",
   "language": "python",
   "name": "python3"
  },
  "language_info": {
   "codemirror_mode": {
    "name": "ipython",
    "version": 3
   },
   "file_extension": ".py",
   "mimetype": "text/x-python",
   "name": "python",
   "nbconvert_exporter": "python",
   "pygments_lexer": "ipython3",
   "version": "3.9.13"
  },
  "orig_nbformat": 4,
  "vscode": {
   "interpreter": {
    "hash": "c788136eb7fabb7191ffb470d6122b08ad156536d2ea23beb8c331e9c2a56edb"
   }
  }
 },
 "nbformat": 4,
 "nbformat_minor": 2
}
