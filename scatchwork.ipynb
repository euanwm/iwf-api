{
 "cells": [
  {
   "cell_type": "code",
   "execution_count": 15,
   "id": "615736aa",
   "metadata": {},
   "outputs": [],
   "source": [
    "from iwf.core import *\n",
    "\n",
    "import requests\n",
    "import time\n",
    "\n",
    "from bs4 import BeautifulSoup\n",
    "from urllib.parse import urlencode\n",
    "from threading import Thread\n",
    "from queue import Queue"
   ]
  },
  {
   "cell_type": "code",
   "execution_count": 16,
   "id": "7643a33a",
   "metadata": {},
   "outputs": [],
   "source": [
    "url = \"https://iwf.sport/results/results-by-events/?event_year=2022\""
   ]
  },
  {
   "cell_type": "code",
   "execution_count": null,
   "id": "70b9e1b0",
   "metadata": {},
   "outputs": [],
   "source": []
  },
  {
   "cell_type": "code",
   "execution_count": 21,
   "id": "990da7b1",
   "metadata": {},
   "outputs": [],
   "source": [
    "url = BASE_URL + EVENTS_URL + \"/?\" + YEAR_URL "
   ]
  },
  {
   "cell_type": "code",
   "execution_count": 22,
   "id": "6db50f7d",
   "metadata": {},
   "outputs": [
    {
     "name": "stdout",
     "output_type": "stream",
     "text": [
      "https://iwf.sport/results/results-by-events/?event_year=\n"
     ]
    }
   ],
   "source": [
    "print(url)"
   ]
  },
  {
   "cell_type": "markdown",
   "id": "7a7c2576",
   "metadata": {},
   "source": [
    "### GET ALL YEARS"
   ]
  },
  {
   "cell_type": "code",
   "execution_count": 23,
   "id": "1abc4a3b",
   "metadata": {},
   "outputs": [],
   "source": [
    "events_url = BASE_URL + EVENTS_URL"
   ]
  },
  {
   "cell_type": "code",
   "execution_count": 25,
   "id": "3c98244e",
   "metadata": {},
   "outputs": [
    {
     "name": "stdout",
     "output_type": "stream",
     "text": [
      "https://iwf.sport/results/results-by-events\n"
     ]
    }
   ],
   "source": [
    "print(events_url)"
   ]
  },
  {
   "cell_type": "code",
   "execution_count": 26,
   "id": "9a4ba4cb",
   "metadata": {},
   "outputs": [],
   "source": [
    "r = requests.get(events_url, headers=HEADERS)"
   ]
  },
  {
   "cell_type": "code",
   "execution_count": null,
   "id": "2b6c351e",
   "metadata": {},
   "outputs": [],
   "source": []
  },
  {
   "cell_type": "code",
   "execution_count": null,
   "id": "3633af41",
   "metadata": {},
   "outputs": [],
   "source": []
  },
  {
   "cell_type": "code",
   "execution_count": null,
   "id": "09514aaa",
   "metadata": {},
   "outputs": [],
   "source": []
  },
  {
   "cell_type": "code",
   "execution_count": null,
   "id": "b204e9f0",
   "metadata": {},
   "outputs": [],
   "source": []
  },
  {
   "cell_type": "code",
   "execution_count": null,
   "id": "81f003ab",
   "metadata": {},
   "outputs": [],
   "source": []
  }
 ],
 "metadata": {
  "kernelspec": {
   "display_name": "venv",
   "language": "python",
   "name": "venv"
  },
  "language_info": {
   "codemirror_mode": {
    "name": "ipython",
    "version": 3
   },
   "file_extension": ".py",
   "mimetype": "text/x-python",
   "name": "python",
   "nbconvert_exporter": "python",
   "pygments_lexer": "ipython3",
   "version": "3.9.13"
  }
 },
 "nbformat": 4,
 "nbformat_minor": 5
}
